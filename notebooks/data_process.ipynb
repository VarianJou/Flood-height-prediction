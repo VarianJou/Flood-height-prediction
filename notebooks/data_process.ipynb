{
 "cells": [
  {
   "cell_type": "code",
   "execution_count": 41,
   "id": "4715316a-7505-4127-8780-e5f2a28264c8",
   "metadata": {},
   "outputs": [],
   "source": [
    "import geopandas as gpd\n",
    "import rasterio\n",
    "from rasterio.mask import mask\n",
    "from rasterio.warp import calculate_default_transform, reproject, Resampling\n",
    "from rasterio.io import MemoryFile\n",
    "import os\n",
    "import json\n",
    "import shapely\n",
    "from shapely.geometry import box\n",
    "import numpy as np"
   ]
  },
  {
   "cell_type": "code",
   "execution_count": 6,
   "id": "b6b6ae84-11de-47d1-9f5d-1dcd588b7e6a",
   "metadata": {},
   "outputs": [
    {
     "name": "stdout",
     "output_type": "stream",
     "text": [
      "Current Working Directory: /anvil/projects/x-cis250634/team5\n"
     ]
    }
   ],
   "source": [
    "os.chdir('/anvil/projects/x-cis250634/team5')\n",
    "print(\"Current Working Directory:\", os.getcwd())"
   ]
  },
  {
   "cell_type": "code",
   "execution_count": 9,
   "id": "fbb08506-80e4-48d7-ac4a-8ae604a1a294",
   "metadata": {},
   "outputs": [
    {
     "name": "stdout",
     "output_type": "stream",
     "text": [
      "     latitude_d  longitude_   latitude   longitude               eventName  \\\n",
      "0      42.95753   -91.62403   42.95753   -91.62403    2016 August IA Flood   \n",
      "1      42.99784   -91.65801   42.99784   -91.65801    2016 August IA Flood   \n",
      "2      42.99799   -91.65846   42.99799   -91.65846    2016 August IA Flood   \n",
      "3     42.957825  -91.623983  42.957825  -91.623983    2016 August IA Flood   \n",
      "4     42.957825  -91.623983  42.957825  -91.623983    2016 August IA Flood   \n",
      "...         ...         ...        ...         ...                     ...   \n",
      "1142  36.322586  -95.990324  36.322586  -95.990324  Central US Spring 2019   \n",
      "1143  36.304303    -95.9913  36.304303    -95.9913  Central US Spring 2019   \n",
      "1144  36.371158  -95.996168  36.371158  -95.996168  Central US Spring 2019   \n",
      "1145   36.30578   -95.99089   36.30578   -95.99089  Central US Spring 2019   \n",
      "1146   36.30207    -95.9921   36.30207    -95.9921  Central US Spring 2019   \n",
      "\n",
      "      hwmTypeNam              hwmQuality verticalDa  \\\n",
      "0      Seed line       Good: +/- 0.10 ft     NGVD29   \n",
      "1         Debris       Fair: +/- 0.20 ft     NGVD29   \n",
      "2         Debris       Fair: +/- 0.20 ft     NGVD29   \n",
      "3     Stain line  Excellent: +/- 0.05 ft     NGVD29   \n",
      "4     Stain line  Excellent: +/- 0.05 ft     NGVD29   \n",
      "...          ...                     ...        ...   \n",
      "1142         Mud       Good: +/- 0.10 ft     NAVD88   \n",
      "1143         Mud       Good: +/- 0.10 ft     NAVD88   \n",
      "1144         Mud       Good: +/- 0.10 ft     NAVD88   \n",
      "1145         Mud       Good: +/- 0.10 ft     NAVD88   \n",
      "1146         Mud       Good: +/- 0.10 ft     NAVD88   \n",
      "\n",
      "                           verticalMe      approvalMe  ... p_vertical p_Links  \\\n",
      "0                           Level Gun    Mike Linhart  ...        0.0     0.0   \n",
      "1                           Level Gun    Mike Linhart  ...        0.0     0.0   \n",
      "2                           Level Gun    Mike Linhart  ...        0.0     0.0   \n",
      "3                           Level Gun    Mike Linhart  ...        0.0     0.0   \n",
      "4                           Level Gun    Mike Linhart  ...        0.0     0.0   \n",
      "...                               ...             ...  ...        ...     ...   \n",
      "1142  Other (Note in Description box)  Shelby Sterner  ...        0.0     0.0   \n",
      "1143  Other (Note in Description box)  Shelby Sterner  ...        0.0     0.0   \n",
      "1144  Other (Note in Description box)            None  ...        0.0     0.0   \n",
      "1145  Other (Note in Description box)  Shelby Sterner  ...        0.0     0.0   \n",
      "1146  Other (Note in Description box)  Shelby Sterner  ...        0.0     0.0   \n",
      "\n",
      "                p_dist_m     ID        SAR    image_name     S1_Date  \\\n",
      "0                    0.0    770  Needs_GEE    SAR770.tif  2016-08-19   \n",
      "1                    0.0    771  Needs_GEE    SAR771.tif  2016-08-19   \n",
      "2     0.7199295600500509    772  Needs_GEE    SAR772.tif  2016-08-19   \n",
      "3                    0.0    773  Needs_GEE    SAR773.tif  2016-08-19   \n",
      "4                    0.0    774  Needs_GEE    SAR774.tif  2016-08-19   \n",
      "...                  ...    ...        ...           ...         ...   \n",
      "1142                 0.0  15105  Needs_GEE  SAR15105.tif  2019-05-15   \n",
      "1143                 0.0  15108  Needs_GEE  SAR15108.tif  2019-05-15   \n",
      "1144                 0.0  15110  Needs_GEE  SAR15110.tif  2019-05-15   \n",
      "1145                 0.0  15134  Needs_GEE  SAR15134.tif  2019-05-15   \n",
      "1146                 0.0  15137  Needs_GEE  SAR15137.tif  2019-05-15   \n",
      "\n",
      "         S2_Date PAL_Date                        geometry  \n",
      "0           None      0.0   POINT (354940.065 2226131.26)  \n",
      "1           None      0.0  POINT (351980.157 2230503.353)  \n",
      "2           None      0.0  POINT (351942.938 2230518.426)  \n",
      "3           None      0.0  POINT (354942.358 2226164.358)  \n",
      "4           None      0.0  POINT (354942.358 2226164.358)  \n",
      "...          ...      ...                             ...  \n",
      "1142  2019-05-20      0.0     POINT (860.769 1474865.802)  \n",
      "1143  2019-05-20      0.0     POINT (774.132 1472817.969)  \n",
      "1144  2019-05-20      0.0     POINT (340.672 1480306.287)  \n",
      "1145  2019-05-20      0.0     POINT (810.598 1472983.406)  \n",
      "1146  2019-05-20      0.0     POINT (702.968 1472567.853)  \n",
      "\n",
      "[1147 rows x 112 columns]\n",
      "EPSG:5070\n"
     ]
    }
   ],
   "source": [
    "points = gpd.read_file('./shp/filtered_flooding_points_over_one_day_nopr.shp')\n",
    "\n",
    "points_copy = points.copy()\n",
    "if points_copy.crs != \"EPSG:5070\":\n",
    "    points_copy = points_copy.to_crs(\"EPSG:5070\")\n",
    "    print(points_copy)\n",
    "    print(points_copy.crs)"
   ]
  },
  {
   "cell_type": "code",
   "execution_count": 48,
   "id": "e5f37871-e02e-427a-8135-df79e6900e3b",
   "metadata": {
    "scrolled": true
   },
   "outputs": [
    {
     "name": "stdout",
     "output_type": "stream",
     "text": [
      "Precipitation added!\n"
     ]
    }
   ],
   "source": [
    "# Find the temporally aligned images with the point\n",
    "with open('./data_0718/json/flooding_dataset_with_precipitation_0801_with_height_above.json') as f:\n",
    "    aligned_data = json.load(f)\n",
    "    \n",
    "    for data in aligned_data:\n",
    "        # print(f\"data id: {data['id']}\")\n",
    "        point = points_copy[points_copy['ID'] == str(data['id'])]\n",
    "        # # small buffer, e.g., 3000 meters\n",
    "        # if not point.empty:\n",
    "        #     geom = point.geometry.buffer(3000).values[0]\n",
    "        #     geojson_geom = [geom.__geo_interface__]\n",
    "        # point_buffer = point.geometry.buffer(500)\n",
    "        prec = data['CHIRPS_1day_ahead']\n",
    "        prec_date = os.path.splitext(data['CHIRPS_1day_ahead'])[0]\n",
    "        dst_crs = \"EPSG:5070\"\n",
    "        \n",
    "        with rasterio.open(f'./data_0718/CHIRPS/CHIRPS_1day_ahead/{prec}') as src:\n",
    "            transform, width, height = calculate_default_transform(\n",
    "                src.crs, dst_crs, src.width, src.height, *src.bounds)\n",
    "            \n",
    "            kwargs = src.meta.copy()\n",
    "            kwargs.update({\n",
    "                'crs': dst_crs,\n",
    "                'transform': transform,\n",
    "                'width': width,\n",
    "                'height': height\n",
    "            })\n",
    "        \n",
    "            # with rasterio.open(\"/xchen/reprojected_raster.tif\", 'w', **kwargs) as dst:\n",
    "            #     for i in range(1, src.count + 1):  # loop through all bands\n",
    "            #         reproject(\n",
    "            #             source=rasterio.band(src, i),\n",
    "            #             destination=rasterio.band(dst, i),\n",
    "            #             src_transform=src.transform,\n",
    "            #             src_crs=src.crs,\n",
    "            #             dst_transform=transform,\n",
    "            #             dst_crs=dst_crs,\n",
    "            #             resampling=Resampling.nearest  # or bilinear, cubic, etc.\n",
    "            #         )\n",
    "                \n",
    "            # with rasterio.open(\"reprojected_raster.tif\", 'r') as dst:\n",
    "            #     # if geom.intersects(box(*dst.bounds)):\n",
    "            #     #     out_image, out_transform = mask(dst, geojson_geom, crop=True)\n",
    "            #     #     precipitation = out_image[out_image != dst.nodata].mean()\n",
    "            #     # else:\n",
    "            #     #     coords = [(x,y) for x, y in zip(point.geometry.x, point.geometry.y)]\n",
    "            #     #     values = list(dst.sample(coords))\n",
    "   \n",
    "            #     #     precipitation = [v[0] for v in values]\n",
    "            #     coords = [(x,y) for x, y in zip(point.geometry.x, point.geometry.y)]\n",
    "            #     values = list(dst.sample(coords))\n",
    "            #     precipitation = [v[0] for v in values]\n",
    "            #     if precipitation is not None:\n",
    "            #         # print(precipitation)\n",
    "            #         points_copy.loc[points_copy['ID'] == str(data['id']), 'precipitation'] = precipitation\n",
    "            dst_array = np.empty((src.count, height, width), dtype=src.dtypes[0])\n",
    "            with MemoryFile() as memfile:\n",
    "                with memfile.open(driver='GTiff',\n",
    "                                  height=height,\n",
    "                                  width=width,\n",
    "                                  count=src.count,\n",
    "                                  dtype=src.dtypes[0],\n",
    "                                  crs=dst_crs,\n",
    "                                  transform=transform) as dst:\n",
    "                    for i in range(src.count):\n",
    "                        dst.write(dst_array[i], i + 1)\n",
    "            \n",
    "                    coords = [(x,y) for x, y in zip(point.geometry.x, point.geometry.y)]\n",
    "                    values = list(dst.sample(coords))\n",
    "                    precipitation = [v[0] for v in values]\n",
    "                    if precipitation is not None:\n",
    "                        # print(precipitation)\n",
    "                        points_copy.loc[points_copy['ID'] == str(data['id']), 'precipitation'] = precipitation\n",
    "                        points_copy.loc[points_copy['ID'] == str(data['id']), 'prec_date'] = prec_date\n",
    "print(\"Precipitation added!\")"
   ]
  },
  {
   "cell_type": "code",
   "execution_count": 44,
   "id": "60b2d00d-71ce-462a-aff7-5340152ac32a",
   "metadata": {},
   "outputs": [
    {
     "name": "stdout",
     "output_type": "stream",
     "text": [
      "Precipitation:\n",
      " 0       0.000000e+00\n",
      "1       0.000000e+00\n",
      "2       0.000000e+00\n",
      "3       0.000000e+00\n",
      "4       0.000000e+00\n",
      "            ...     \n",
      "1142    5.680864e-41\n",
      "1143    1.238019e-40\n",
      "1144    1.796212e-40\n",
      "1145   -4.220406e-29\n",
      "1146    2.939083e-40\n",
      "Name: precipitation, Length: 1147, dtype: float32\n"
     ]
    }
   ],
   "source": [
    "print(\"Precipitation:\\n\", points_copy['precipitation'])\n",
    "points_copy[['ID', 'S1_Date', 'peak_date', 'precipitation']].to_csv('./xchen/precipitation.csv', index=False)"
   ]
  },
  {
   "cell_type": "code",
   "execution_count": 50,
   "id": "26c3d0fe-72fa-4d50-b4b1-a47555f3db28",
   "metadata": {},
   "outputs": [],
   "source": [
    "soil_moisture_tifs = ['Flooding_SMAP9KM_3hr_before', 'Flooding_SMAP9KM_6hr_before', 'Flooding_SMAP9KM_9hr_before', 'Flooding_SMAP9KM_12hr_before',]"
   ]
  },
  {
   "cell_type": "code",
   "execution_count": 59,
   "id": "c68a7ea7-ea3a-42e8-bf45-a5d98026d09e",
   "metadata": {},
   "outputs": [
    {
     "name": "stdout",
     "output_type": "stream",
     "text": [
      "./data_0718/Flooding_SMAP9KM/Flooding_SMAP9KM_3hr_before/770_2016-08-25T09:00:00_SMAP.tif\n"
     ]
    },
    {
     "ename": "ValueError",
     "evalue": "max() iterable argument is empty",
     "output_type": "error",
     "traceback": [
      "\u001b[31m---------------------------------------------------------------------------\u001b[39m",
      "\u001b[31mValueError\u001b[39m                                Traceback (most recent call last)",
      "\u001b[36mCell\u001b[39m\u001b[36m \u001b[39m\u001b[32mIn[59]\u001b[39m\u001b[32m, line 48\u001b[39m\n\u001b[32m     45\u001b[39m                 \u001b[38;5;28;01mif\u001b[39;00m soil_moisture \u001b[38;5;129;01mis\u001b[39;00m \u001b[38;5;129;01mnot\u001b[39;00m \u001b[38;5;28;01mNone\u001b[39;00m:\n\u001b[32m     46\u001b[39m                     soil_moi_max.append(soil_moisture)\n\u001b[32m---> \u001b[39m\u001b[32m48\u001b[39m points_copy.loc[points_copy[\u001b[33m'\u001b[39m\u001b[33mID\u001b[39m\u001b[33m'\u001b[39m] == data[\u001b[33m'\u001b[39m\u001b[33mid\u001b[39m\u001b[33m'\u001b[39m], \u001b[33m'\u001b[39m\u001b[33msoil_moisture\u001b[39m\u001b[33m'\u001b[39m] = \u001b[38;5;28mmax\u001b[39m(soil_moi_max)\n",
      "\u001b[31mValueError\u001b[39m: max() iterable argument is empty"
     ]
    }
   ],
   "source": [
    "with open('./data_0718/json/flooding_dataset_with_precipitation_0801_with_height_above.json') as f:\n",
    "    aligned_data = json.load(f)\n",
    "    \n",
    "    for data in aligned_data:\n",
    "        # print(f\"data id: {data['id']}\")\n",
    "        point = points_copy[points_copy['ID'] == str(data['id'])]\n",
    "        # point_buffer = point.geometry.buffer(500)\n",
    "        soil = data['SMAP9KM_3hr_before']\n",
    "        dst_crs = \"EPSG:5070\"\n",
    "        \n",
    "        for soil_moisture_tif in soil_moisture_tifs:\n",
    "            soil_moi_max = []\n",
    "            if os.path.exists(f'./data_0718/Flooding_SMAP9KM/{soil_moisture_tif}/{soil}'):\n",
    "                print(f'./data_0718/Flooding_SMAP9KM/{soil_moisture_tif}/{soil}')\n",
    "                with rasterio.open(f'./data_0718/Flooding_SMAP9KM/{soil_moisture_tif}/{soil}') as src:\n",
    "                    transform, width, height = calculate_default_transform(\n",
    "                        src.crs, dst_crs, src.width, src.height, *src.bounds)\n",
    "                    \n",
    "                    kwargs = src.meta.copy()\n",
    "                    kwargs.update({\n",
    "                        'crs': dst_crs,\n",
    "                        'transform': transform,\n",
    "                        'width': width,\n",
    "                        'height': height\n",
    "                    })\n",
    "                \n",
    "                    with rasterio.open(\"reprojected_raster.tif\", 'w', **kwargs) as dst:\n",
    "                        for i in range(1, src.count + 1):  # loop through all bands\n",
    "                            reproject(\n",
    "                                source=rasterio.band(src, i),\n",
    "                                destination=rasterio.band(dst, i),\n",
    "                                src_transform=src.transform,\n",
    "                                src_crs=src.crs,\n",
    "                                dst_transform=transform,\n",
    "                                dst_crs=dst_crs\n",
    "                                # resampling=Resampling.nearest\n",
    "                            )\n",
    "                        \n",
    "                    with rasterio.open(\"reprojected_raster.tif\", 'r') as dst:\n",
    "                        coords = [(x,y) for x, y in zip(point.geometry.x, point.geometry.y)]\n",
    "                        values = list(dst.sample(coords))\n",
    "                        soil_moisture = [v[0] for v in values]\n",
    "                    \n",
    "                        # Assign directly to `points` using .loc\n",
    "                        if soil_moisture is not None:\n",
    "                            soil_moi_max.append(soil_moisture)\n",
    "\n",
    "        points_copy.loc[points_copy['ID'] == data['id'], 'soil_moisture'] = max(soil_moi_max)\n",
    "    # print(\"Precipitation:\\n\", points_copy['precipitation'])"
   ]
  },
  {
   "cell_type": "code",
   "execution_count": null,
   "id": "bf51ad43-564b-42fe-95ac-0992486188bf",
   "metadata": {},
   "outputs": [],
   "source": [
    "print(\"soil_moisture:\\n\", points_copy['soil_moisture'])\n",
    "points_copy[['ID', 'S1_Date', 'soil_moisture']].to_csv('./xchen/soil_moisture.csv', index=False)"
   ]
  }
 ],
 "metadata": {
  "kernelspec": {
   "display_name": "flood_env",
   "language": "python",
   "name": "flood_env"
  },
  "language_info": {
   "codemirror_mode": {
    "name": "ipython",
    "version": 3
   },
   "file_extension": ".py",
   "mimetype": "text/x-python",
   "name": "python",
   "nbconvert_exporter": "python",
   "pygments_lexer": "ipython3",
   "version": "3.12.11"
  }
 },
 "nbformat": 4,
 "nbformat_minor": 5
}
